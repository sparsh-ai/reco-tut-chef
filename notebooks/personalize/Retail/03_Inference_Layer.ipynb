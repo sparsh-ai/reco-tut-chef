{
 "cells": [
  {
   "cell_type": "markdown",
   "metadata": {},
   "source": [
    "# Interacting with Campaigns <a class=\"anchor\" id=\"top\"></a>\n",
    "\n",
    "In this notebook, you will deploy and interact with campaigns in Amazon Personalize.\n",
    "\n",
    "1. [Introduction](#intro)\n",
    "1. [Create campaigns](#create)\n",
    "1. [Interact with campaigns](#interact)\n",
    "1. [Batch recommendations](#batch)\n",
    "1. [Wrap up](#wrapup)\n",
    "\n",
    "## Introduction <a class=\"anchor\" id=\"intro\"></a>\n",
    "[Back to top](#top)\n",
    "\n",
    "At this point, you should have several solutions and at least one solution version for each. Once a solution version is created, it is possible to get recommendations from them, and to get a feel for their overall behavior.\n",
    "\n",
    "This notebook starts off by deploying each of the solution versions from the previous notebook into individual campaigns. Once they are active, there are resources for querying the recommendations, and helper functions to digest the output into something more human-readable. \n",
    "\n",
    "As you with your customer on Amazon Personalize, you can modify the helper functions to fit the structure of their data input files to keep the additional rendering working.\n",
    "\n",
    "To get started, once again, we need to import libraries, load values from previous notebooks, and load the SDK."
   ]
  },
  {
   "cell_type": "code",
   "execution_count": null,
   "metadata": {},
   "outputs": [],
   "source": [
    "import time\n",
    "from time import sleep\n",
    "import json\n",
    "from datetime import datetime\n",
    "import uuid\n",
    "import random\n",
    "\n",
    "import boto3\n",
    "import pandas as pd"
   ]
  },
  {
   "cell_type": "code",
   "execution_count": null,
   "metadata": {},
   "outputs": [],
   "source": [
    "%store -r"
   ]
  },
  {
   "cell_type": "code",
   "execution_count": null,
   "metadata": {},
   "outputs": [],
   "source": [
    "personalize = boto3.client('personalize')\n",
    "personalize_runtime = boto3.client('personalize-runtime')\n",
    "\n",
    "# Establish a connection to Personalize's event streaming\n",
    "personalize_events = boto3.client(service_name='personalize-events')"
   ]
  },
  {
   "cell_type": "markdown",
   "metadata": {},
   "source": [
    "## Adding some helper functions to make results more readable"
   ]
  },
  {
   "cell_type": "code",
   "execution_count": null,
   "metadata": {},
   "outputs": [],
   "source": [
    "def get_item_name_from_id ( item_id ):\n",
    "    item_name = item_metadata_df [item_metadata_df ['id'] == item_id]['name'].values[0]\n",
    "    return item_name"
   ]
  },
  {
   "cell_type": "code",
   "execution_count": null,
   "metadata": {},
   "outputs": [],
   "source": [
    "def get_item_category_from_id ( item_id ):\n",
    "    item_name = item_metadata_df [item_metadata_df ['id'] == item_id]['category'].values[0]\n",
    "    return item_name"
   ]
  },
  {
   "cell_type": "code",
   "execution_count": null,
   "metadata": {},
   "outputs": [],
   "source": [
    "def get_item_style_from_id ( item_id ):\n",
    "    item_name = item_metadata_df [item_metadata_df ['id'] == item_id]['style'].values[0]\n",
    "    return item_name"
   ]
  },
  {
   "cell_type": "code",
   "execution_count": null,
   "metadata": {},
   "outputs": [],
   "source": [
    "def add_item_name_to_df ( df ):\n",
    "    test = df.copy()\n",
    "\n",
    "    test['ITEM_NAME'] = test.apply(\n",
    "          lambda row:\n",
    "            get_item_name_from_id(row['ITEM_ID'] ), axis=1\n",
    "      )\n",
    "    \n",
    "    display(test)\n",
    "    return (test)"
   ]
  },
  {
   "cell_type": "markdown",
   "metadata": {},
   "source": [
    "## Test Campaigns\n",
    "\n",
    "Now that our campaigns have been fully created, let's test each campaign and evaluate the results."
   ]
  },
  {
   "cell_type": "markdown",
   "metadata": {},
   "source": [
    "### Test Related Product Recommendations Campaign\n",
    "\n",
    "Let's test the recommendations made by the related items/products campaign by selecting a product from the Retail Demo Store's [Products](https://github.com/aws-samples/retail-demo-store/tree/master/src/products) microservice and requesting related item recommendations for that product."
   ]
  },
  {
   "cell_type": "markdown",
   "metadata": {},
   "source": [
    "#### Select a Product\n",
    "\n",
    "We'll just pick a random product for simplicity. Feel free to change the `product_id` below and execute the following cells with a different product to get a sense for how the recommendations change."
   ]
  },
  {
   "cell_type": "code",
   "execution_count": null,
   "metadata": {},
   "outputs": [],
   "source": [
    "product_id = '020a5afe-fb13-4499-a1fa-8594d326eaa0'\n",
    "\n",
    "display (get_item_name_from_id ( product_id ))"
   ]
  },
  {
   "cell_type": "markdown",
   "metadata": {},
   "source": [
    "#### Get Related Product Recommendations for Product\n",
    "\n",
    "Now let's call Amazon Personalize to get related item/product recommendations for our product from the related item campaign."
   ]
  },
  {
   "cell_type": "code",
   "execution_count": null,
   "metadata": {},
   "outputs": [],
   "source": [
    "get_recommendations_response = personalize_runtime.get_recommendations(\n",
    "    campaignArn = related_campaign_arn,\n",
    "    itemId = str(product_id),\n",
    "    numResults = 10\n",
    ")\n",
    "\n",
    "item_list = get_recommendations_response['itemList']"
   ]
  },
  {
   "cell_type": "code",
   "execution_count": null,
   "metadata": {},
   "outputs": [],
   "source": [
    "df = pd.DataFrame()\n",
    "df['Item'] = [ itm['itemId'] for itm in item_list ]\n",
    "df['Name'] = [ get_item_name_from_id ( itm['itemId']) for itm in item_list ]\n",
    "df['Category'] = [ get_item_category_from_id ( itm['itemId']) for itm in item_list ]\n",
    "df['Style'] = [ get_item_style_from_id ( itm['itemId']) for itm in item_list ]\n",
    "display (df)\n"
   ]
  },
  {
   "cell_type": "markdown",
   "metadata": {},
   "source": [
    "Based on the random product selected above, do the similar item recommendations from Personalize make sense? Keep in mind that the similar item recommendations from the SIMS recipe are based on the interactions we generated as input into the solution creation process above."
   ]
  },
  {
   "cell_type": "markdown",
   "metadata": {},
   "source": [
    "### Test Product Recommendations Campaign\n",
    "\n",
    "Let's test the recommendations made by the product recommendations campaign by selecting a user from the Retail Demo Store's Users microservice and requesting item recommendations for that user."
   ]
  },
  {
   "cell_type": "markdown",
   "metadata": {},
   "source": [
    "#### Select a User\n",
    "\n",
    "We'll just pick a random user for simplicity. Feel free to change the `user_id` below and execute the following cells with a different user to get a sense for how the recommendations change."
   ]
  },
  {
   "cell_type": "code",
   "execution_count": null,
   "metadata": {},
   "outputs": [],
   "source": [
    "user_id = 555\n",
    "user_metadata_df[user_metadata_df['id']==user_id]"
   ]
  },
  {
   "cell_type": "markdown",
   "metadata": {},
   "source": [
    "#### Get Product Recommendations for User\n",
    "\n",
    "Now let's call Amazon Personalize to get recommendations for our user from the product recommendations campaign."
   ]
  },
  {
   "cell_type": "code",
   "execution_count": null,
   "metadata": {},
   "outputs": [],
   "source": [
    "get_recommendations_response = personalize_runtime.get_recommendations(\n",
    "    campaignArn = recommend_campaign_arn,\n",
    "    userId = str(user_id),\n",
    "    numResults = 10\n",
    ")\n",
    "\n",
    "item_list = get_recommendations_response['itemList']"
   ]
  },
  {
   "cell_type": "code",
   "execution_count": null,
   "metadata": {},
   "outputs": [],
   "source": [
    "df = pd.DataFrame()\n",
    "df['Item'] = [ itm['itemId'] for itm in item_list ]\n",
    "df['Score'] = [ itm['score'] for itm in item_list ]\n",
    "df['Name'] = [ get_item_name_from_id ( itm['itemId']) for itm in item_list ]\n",
    "df['Category'] = [ get_item_category_from_id ( itm['itemId']) for itm in item_list ]\n",
    "df['Style'] = [ get_item_style_from_id ( itm['itemId']) for itm in item_list ]\n",
    "display (df)\n"
   ]
  },
  {
   "cell_type": "markdown",
   "metadata": {},
   "source": [
    "Notice that in this response we have a `score` field returned with each `itemId`. For all recipes except SIMS and Popularity-Count, Personalize [calculates a score](https://docs.aws.amazon.com/personalize/latest/dg/getting-real-time-recommendations.html) for each recommended item. Score values are between 0.0 and 1.0 and the sum of all scores across all items in your interactions and items datasets will total to 1.0. Therefore, the absolute value of scores will be smaller for larger item catalogs. We'll see how scores are calculated a bit differently for the personalized-ranking recipe below.\n",
    "\n",
    "#### Applying the discount context\n",
    "\n",
    "We'll get the user recommendations when discount context is applied for comparison. This is a using the \"contextual metadata\" feature of Amazon Personalize."
   ]
  },
  {
   "cell_type": "code",
   "execution_count": null,
   "metadata": {},
   "outputs": [],
   "source": [
    "get_recommendations_response = personalize_runtime.get_recommendations(\n",
    "    campaignArn = recommend_campaign_arn,\n",
    "    userId = str(user_id),\n",
    "    numResults = 10,\n",
    "    context = {'DISCOUNT':'Yes'} # Here we provide the context for the recommendations\n",
    ")\n",
    "\n",
    "item_list_context = get_recommendations_response['itemList']\n",
    "\n",
    "df = pd.DataFrame()\n",
    "df['Item'] = [ itm['itemId'] for itm in item_list_context ]\n",
    "df['Score'] = [ itm['score'] for itm in item_list_context ]\n",
    "df['Name'] = [ get_item_name_from_id ( itm['itemId']) for itm in item_list_context ]\n",
    "df['Category'] = [ get_item_category_from_id ( itm['itemId']) for itm in item_list_context ]\n",
    "df['Style'] = [ get_item_style_from_id ( itm['itemId']) for itm in item_list_context ]\n",
    "display (df)"
   ]
  },
  {
   "cell_type": "markdown",
   "metadata": {},
   "source": [
    "Let us compare it to the previous set of recommendations without context."
   ]
  },
  {
   "cell_type": "code",
   "execution_count": null,
   "metadata": {},
   "outputs": [],
   "source": [
    "df = pd.DataFrame()\n",
    "df['Item (No context)'] = [ itm['itemId'] for itm in item_list ]\n",
    "df['Score (No context)'] = [ itm['score'] for itm in item_list ]\n",
    "df['Name (No context)'] = [ get_item_name_from_id ( itm['itemId']) for itm in item_list ]\n",
    "\n",
    "df['Item (Context)'] = [ itm['itemId'] for itm in item_list_context ]\n",
    "df['Score (Context)'] = [ itm['score'] for itm in item_list_context ]\n",
    "df['Name (Context)'] = [ get_item_name_from_id ( itm['itemId']) for itm in item_list_context ]\n",
    "display (df)"
   ]
  },
  {
   "cell_type": "markdown",
   "metadata": {},
   "source": [
    "### Test Personalized Ranking Campaign\n",
    "\n",
    "Next let's evaluate the results of the personalized ranking campaign. As a reminder, given a list of items and a user, this campaign will rerank the items based on the preferences of the user. For the Retail Demo Store, we will use this campaign to rerank the products listed for each category and the featured products list as well as reranking catalog search results displayed in the search widget."
   ]
  },
  {
   "cell_type": "markdown",
   "metadata": {},
   "source": [
    "#### Get Featured Products List\n",
    "\n",
    "First let's get the list of featured products from the Products data."
   ]
  },
  {
   "cell_type": "code",
   "execution_count": null,
   "metadata": {},
   "outputs": [],
   "source": [
    "featured_products = item_metadata_df[item_metadata_df['featured']==True]"
   ]
  },
  {
   "cell_type": "markdown",
   "metadata": {},
   "source": [
    "#### ReRank Featured Products\n",
    "\n",
    "Using the featured products list just retrieved, first we'll create a list of item IDs that we want to rerank for a specific user. This reranking will allow us to provide ranked products based on the user's behavior. These behaviors should be consistent the same persona that was mentioned above (since we're going to use the same `user_id`)."
   ]
  },
  {
   "cell_type": "code",
   "execution_count": null,
   "metadata": {
    "pycharm": {
     "name": "#%%\n"
    }
   },
   "outputs": [],
   "source": [
    "unranked_product_ids = list (featured_products['id'])\n",
    "\n",
    "df = pd.DataFrame()\n",
    "df['Item'] = [ itm for itm in unranked_product_ids ]\n",
    "df['Name'] = [ get_item_name_from_id ( itm) for itm in unranked_product_ids ]\n",
    "df['Category'] = [ get_item_category_from_id ( itm) for itm in unranked_product_ids ]\n",
    "df['Style'] = [ get_item_style_from_id ( itm) for itm in unranked_product_ids ]\n",
    "display (df)"
   ]
  },
  {
   "cell_type": "markdown",
   "metadata": {},
   "source": [
    "Now let's have Personalize rank the featured product IDs based on our random user."
   ]
  },
  {
   "cell_type": "code",
   "execution_count": null,
   "metadata": {
    "pycharm": {
     "name": "#%%\n"
    }
   },
   "outputs": [],
   "source": [
    "response = personalize_runtime.get_personalized_ranking(\n",
    "    campaignArn=ranking_campaign_arn,\n",
    "    inputList=unranked_product_ids,\n",
    "    userId=str(user_id)\n",
    ")\n",
    "reranked = response['personalizedRanking']\n",
    "print(json.dumps(response['personalizedRanking'], indent = 4))"
   ]
  },
  {
   "cell_type": "code",
   "execution_count": null,
   "metadata": {},
   "outputs": [],
   "source": [
    "df = pd.DataFrame()\n",
    "df['Item'] = [ itm['itemId'] for itm in reranked ]\n",
    "df['Name'] = [ get_item_name_from_id ( itm['itemId']) for itm in reranked ]\n",
    "df['Category'] = [ get_item_category_from_id ( itm['itemId']) for itm in reranked ]\n",
    "df['Style'] = [ get_item_style_from_id ( itm['itemId']) for itm in reranked ]\n",
    "display (df)"
   ]
  },
  {
   "cell_type": "markdown",
   "metadata": {},
   "source": [
    "Are the reranked results different than the original results from the Search service? Notice that we are also given a score for each item but this time the score values are larger. This is because scores for personalized-ranking results are calculated just across the items being reranked. Experiment with a different `user_id` in the cells above to see how the item ranking changes."
   ]
  },
  {
   "cell_type": "markdown",
   "metadata": {},
   "source": [
    "#### Pick products for discount\n",
    "\n",
    "Using the featured products list we'll pick some products for discount from the featured products.\n",
    "\n",
    "We'll get the ranking when discount context is applied for comparison. This is a using the \"contextual metadata\" feature of Amazon Personalize.\n"
   ]
  },
  {
   "cell_type": "code",
   "execution_count": null,
   "metadata": {},
   "outputs": [],
   "source": [
    "response = personalize_runtime.get_personalized_ranking(\n",
    "    campaignArn=ranking_campaign_arn,\n",
    "    inputList=unranked_product_ids,\n",
    "    userId=str(user_id),\n",
    "    context={'DISCOUNT': 'Yes'} # Here we provide the context for the ranking\n",
    ")\n",
    "discount_reranked = response['personalizedRanking']\n",
    "print('Discount context ranking:', json.dumps(discount_reranked, indent = 4))"
   ]
  },
  {
   "cell_type": "code",
   "execution_count": null,
   "metadata": {},
   "outputs": [],
   "source": [
    "df = pd.DataFrame()\n",
    "df['Item'] = [ itm['itemId'] for itm in discount_reranked ]\n",
    "df['Name'] = [ get_item_name_from_id ( itm['itemId']) for itm in discount_reranked ]\n",
    "df['Category'] = [ get_item_category_from_id ( itm['itemId']) for itm in discount_reranked ]\n",
    "df['Style'] = [ get_item_style_from_id ( itm['itemId']) for itm in discount_reranked ]\n",
    "display (df)"
   ]
  },
  {
   "cell_type": "markdown",
   "metadata": {
    "pycharm": {
     "name": "#%% md\n"
    }
   },
   "source": [
    "Let us compare the original list, the reranked list and the reranked list with context."
   ]
  },
  {
   "cell_type": "code",
   "execution_count": null,
   "metadata": {
    "pycharm": {
     "name": "#%%\n"
    }
   },
   "outputs": [],
   "source": [
    "df = pd.DataFrame()\n",
    "df['Original List'] = [ itm for itm in unranked_product_ids]\n",
    "df['Original List Name'] = [ get_item_name_from_id ( itm) for itm in unranked_product_ids ]\n",
    "\n",
    "df['Original Reranking'] = [ itm['itemId'] for itm in reranked]\n",
    "df['Original Reranking Name'] = [ get_item_name_from_id ( itm['itemId']) for itm in reranked ]\n",
    "\n",
    "df['Discount Reranking'] = [ itm['itemId'] for itm in discount_reranked]\n",
    "df['Discount Reranking Name'] = [ get_item_name_from_id ( itm['itemId']) for itm in discount_reranked ]\n",
    "\n",
    "display (df)\n"
   ]
  },
  {
   "cell_type": "markdown",
   "metadata": {},
   "source": [
    "Has the ranking changed?"
   ]
  },
  {
   "cell_type": "markdown",
   "metadata": {},
   "source": [
    "## Event Tracking - Keeping up with evolving user intent\n",
    "\n",
    "Up to this point we have trained and deployed three Amazon Personalize campaigns based on historical data that we\n",
    " generated in this workshop. This allows us to make related product, user recommendations, and rerank product\n",
    "  lists based on already observed behavior of our users. However, user intent often changes in real-time such\n",
    "  that what products the user is interested in now may be different than what they were interested in a week ago,\n",
    "  a day ago, or even a few minutes ago. Making recommendations that keep up with evolving user intent is one of the\n",
    "   more difficult challenges with personalization. Fortunately, Amazon Personalize has a mechanism for this exact issue.\n",
    "\n",
    "Amazon Personalize supports the ability to send real-time user events (i.e. clickstream) data into the service.\n",
    "Personalize uses this event data to improve recommendations. It will also save these events and automatically\n",
    "include them when solutions for the same dataset group are re-created (i.e. model retraining).\n",
    "\n",
    "The Retail Demo Store's Web UI already has\n",
    "[logic to send events](https://github.com/aws-samples/retail-demo-store/blob/master/src/web-ui/src/analytics/AnalyticsHandler.js)\n",
    "such as 'ProductViewed', 'ProductAdded', 'OrderCompleted', and others as they occur in real-time to a Personalize Event Tracker.\n",
    "These are the same event types we used to initially create the solutions and campaigns for our three use-cases.\n",
    "All we need to do is create an event tracker in Personalize, set the tracking Id for the tracker in an SSM parameter,\n",
    "and rebuild the Web UI service to pick up the change."
   ]
  },
  {
   "cell_type": "markdown",
   "metadata": {},
   "source": [
    "### Create Personalize Event Tracker\n",
    "\n",
    "Let's start by creating an event tracker for our dataset group."
   ]
  },
  {
   "cell_type": "code",
   "execution_count": null,
   "metadata": {},
   "outputs": [],
   "source": [
    "event_tracker_response = personalize.create_event_tracker(\n",
    "    datasetGroupArn=dataset_group_arn,\n",
    "    name='retaildemostore-event-tracker'\n",
    ")\n",
    "\n",
    "event_tracker_arn = event_tracker_response['eventTrackerArn']\n",
    "event_tracking_id = event_tracker_response['trackingId']\n",
    "\n",
    "print('Event Tracker ARN: ' + event_tracker_arn)\n",
    "print('Event Tracking ID: ' + event_tracking_id)"
   ]
  },
  {
   "cell_type": "markdown",
   "metadata": {},
   "source": [
    "### Wait for Event Tracker Status to Become ACTIVE\n",
    "\n",
    "The event tracker should take a minute or so to become active."
   ]
  },
  {
   "cell_type": "code",
   "execution_count": null,
   "metadata": {},
   "outputs": [],
   "source": [
    "status = None\n",
    "max_time = time.time() + 60*60 # 1 hours\n",
    "while time.time() < max_time:\n",
    "    describe_event_tracker_response = personalize.describe_event_tracker(\n",
    "        eventTrackerArn = event_tracker_arn\n",
    "    )\n",
    "    status = describe_event_tracker_response[\"eventTracker\"][\"status\"]\n",
    "    print(\"EventTracker: {}\".format(status))\n",
    "    \n",
    "    if status == \"ACTIVE\" or status == \"CREATE FAILED\":\n",
    "        break\n",
    "        \n",
    "    time.sleep(15)"
   ]
  },
  {
   "cell_type": "markdown",
   "metadata": {},
   "source": [
    "### Cold User Recommendations\n",
    "\n",
    "One of the key features of Personalize is being able to cold start users. Cold users are typically those who are new to your site or application and cold starting a user is getting from no personalization to making personalized recommendations in real-time. \n",
    "\n",
    "Personalize accomplishes cold starting users via the Event Tracker, just as we saw above with existing users. However, since new users are typically anonymous for a period of time before they create an account or may choose to transact as a guest, personalization is a valuable tool to help convert those anonymous users to transacting users. \n",
    "\n",
    "The challenge here is that Personalize needs a `userId` for anonymous users before it can make personalized recommendations. The Retail Demo Store solves this challenge by creating a provisional user ID the moment an anonymous user first hits the site. This provisional user ID is then used when streaming events to the Event Tracker and when retrieving recommendations from the Recommendations service. This allows the Retail Demo Store to start serving personalized recommendations after the first couple events are streamed to Personalize. Before recommendations can be personalized, Personalize will provide recommendations for popular items as a fallback.\n",
    "\n",
    "To see this behavior in action, browse to the Retail Demo Store storefront using a different browser, an Incognito/Private window, or sign out of your existing account. What you should see on the home page is that instead of **\"Inspired by your shopping behavior\"**, the section is **\"Trending products\"**. After you click on a couple provide detail pages, return to the home page and see that the section title and recommendations have changed. This indicates that recommendations are now being personalized and will continue to become more relevant as you engage with products.\n",
    "\n",
    "Similarly, the category pages will rerank products at first based on popularity and then become more and more personalized.\n",
    "\n",
    "There are some challenges with this approach, though. First is the question of what to do with the provisional user ID when the user creates an account. To maintain continuity of the user's interaction history, the Retail Demo Store passes the provisional user ID to the Users microservice when creating a new user account. The Users service then uses this ID as the user's ID going forward. Another challenge is how to handle a user that anonymously browses the site using multiple devices such as on the mobile device and then on a desktop/laptop. In this case, separate provisional user IDs are generated for sessions on each device. However, once the user creates an account on one device and then signs in with that account on the other device, both devices will starting using the same user ID going forward. A side effect here is that the interaction history from one of the devices will be orphaned. This is an acceptable tradeoff given the benefit of cold starting users earlier and is functionally the same UX without this scheme. Additional logic could be added to merge the interaction history from both prior anonymous sessions when the user creates an account. Also, customer data platforms can be used to help manage this for you."
   ]
  },
  {
   "cell_type": "markdown",
   "metadata": {},
   "source": [
    "### Test Purchased Products Filter\n",
    "\n",
    "To test our purchased products filter, we will request recommendations for a random user. Then we will send an `OrderCompleted` event for one of the recommended products to Personalize using the event tracker created above. Finally, we will request recommendations again for the same user but this time specify our filter."
   ]
  },
  {
   "cell_type": "code",
   "execution_count": null,
   "metadata": {},
   "outputs": [],
   "source": [
    "# Pick a user ID in the range of test users and fetch 5 recommendations.\n",
    "user_id = 456\n",
    "display(user_metadata_df[user_metadata_df['id']==user_id])"
   ]
  },
  {
   "cell_type": "code",
   "execution_count": null,
   "metadata": {},
   "outputs": [],
   "source": [
    "get_recommendations_response = personalize_runtime.get_recommendations(\n",
    "    campaignArn = recommend_campaign_arn,\n",
    "    userId = str(user_id),\n",
    "    numResults = 5\n",
    ")\n",
    "\n",
    "item_list = get_recommendations_response['itemList']\n",
    "df = pd.DataFrame()\n",
    "df['Item'] = [ itm['itemId'] for itm in item_list ]\n",
    "df['Name'] = [ get_item_name_from_id ( itm['itemId']) for itm in item_list ]\n",
    "df['Category'] = [ get_item_category_from_id ( itm['itemId']) for itm in item_list ]\n",
    "df['Style'] = [ get_item_style_from_id ( itm['itemId']) for itm in item_list ]\n",
    "display (df)"
   ]
  },
  {
   "cell_type": "markdown",
   "metadata": {},
   "source": [
    "Next let's randomly select an item from the returned list of recommendations to be our product to purchase."
   ]
  },
  {
   "cell_type": "code",
   "execution_count": null,
   "metadata": {},
   "outputs": [],
   "source": [
    "product_id_to_purchase = random.choice(item_list)['itemId']\n",
    "print(f'Product to simulate purchasing: {product_id_to_purchase}')\n",
    "print(f'Product name: {get_item_name_from_id ( product_id_to_purchase)}')"
   ]
  },
  {
   "cell_type": "markdown",
   "metadata": {},
   "source": [
    "Next let's send an `OrderCompleted` event to Personalize to simulate that the product was just purchased.\n",
    "This will match the criteria for our filter.\n",
    "In the Retail Demo Store web application, this event is sent for each product in the order after the order is completed."
   ]
  },
  {
   "cell_type": "code",
   "execution_count": null,
   "metadata": {},
   "outputs": [],
   "source": [
    "response = personalize_events.put_events(\n",
    "    trackingId = event_tracking_id,\n",
    "    userId = str(user_id),\n",
    "    sessionId = str(uuid.uuid4()),\n",
    "    eventList = [\n",
    "        {\n",
    "            'eventId': str(uuid.uuid4()),\n",
    "            'eventType': 'OrderCompleted',\n",
    "            'itemId': str(product_id_to_purchase),\n",
    "            'sentAt': int(time.time()),\n",
    "            'properties': '{\"discount\": \"No\"}'\n",
    "        }\n",
    "    ]\n",
    ")\n",
    "\n",
    "# Wait for OrderCompleted event to become consistent.\n",
    "time.sleep(10)\n",
    "\n",
    "print(json.dumps(response, indent=2))"
   ]
  },
  {
   "cell_type": "markdown",
   "metadata": {},
   "source": [
    "Finally, let's retrieve recommendations for the user again but this time specifying the filter to exclude recently\n",
    "purchased items. We do this by passing the filter's ARN via the `filterArn` parameter.\n",
    "In the Retail Demo Store, this is done in the\n",
    "[Recommendations](https://github.com/aws-samples/retail-demo-store/tree/master/src/recommendations) service."
   ]
  },
  {
   "cell_type": "code",
   "execution_count": null,
   "metadata": {},
   "outputs": [],
   "source": [
    "get_recommendations_response = personalize_runtime.get_recommendations(\n",
    "    campaignArn = recommend_campaign_arn,\n",
    "    userId = str(user_id),\n",
    "    numResults = 5,\n",
    "    filterArn = filter_arn\n",
    ")\n",
    "\n",
    "item_list = get_recommendations_response['itemList']\n",
    "df = pd.DataFrame()\n",
    "df['Item'] = [ itm['itemId'] for itm in item_list ]\n",
    "df['Name'] = [ get_item_name_from_id ( itm['itemId']) for itm in item_list ]\n",
    "df['Category'] = [ get_item_category_from_id ( itm['itemId']) for itm in item_list ]\n",
    "df['Style'] = [ get_item_style_from_id ( itm['itemId']) for itm in item_list ]\n",
    "display (df)"
   ]
  },
  {
   "cell_type": "markdown",
   "metadata": {},
   "source": [
    "The following code will raise an assertion error if the product we just purchased is still recommended."
   ]
  },
  {
   "cell_type": "code",
   "execution_count": null,
   "metadata": {},
   "outputs": [],
   "source": [
    "found_item = next((item for item in item_list if item['itemId'] == product_id_to_purchase), None)\n",
    "if found_item:\n",
    "    assert found_item == False, 'Purchased item found unexpectedly in recommendations'\n",
    "else:\n",
    "    print('Purchased item filtered from recommendations for user!')"
   ]
  },
  {
   "cell_type": "markdown",
   "metadata": {},
   "source": [
    "## Wrap up <a class=\"anchor\" id=\"wrapup\"></a>\n",
    "[Back to top](#top)\n",
    "\n",
    "With that you now have a fully working collection of models to tackle various recommendation and personalization scenarios, as well as the skills to manipulate customer data to better integrate with the service, and a knowledge of how to do all this over APIs and by leveraging open source data science tools.\n",
    "\n",
    "Use these notebooks as a guide to getting started with your customers for POCs. As you find missing components, or discover new approaches, cut a pull request and provide any additional helpful components that may be missing from this collection.\n",
    "\n",
    "You'll want to make sure that you clean up all of the resources deployed during this POC. We have provided a separate notebook which shows you how to identify and delete the resources in `05_Clean_Up_Resources.ipynb`."
   ]
  },
  {
   "cell_type": "code",
   "execution_count": null,
   "metadata": {},
   "outputs": [],
   "source": [
    "%store event_tracker_arn"
   ]
  },
  {
   "cell_type": "code",
   "execution_count": null,
   "metadata": {},
   "outputs": [],
   "source": []
  }
 ],
 "metadata": {
  "kernelspec": {
   "display_name": "conda_python3",
   "language": "python",
   "name": "conda_python3"
  },
  "language_info": {
   "codemirror_mode": {
    "name": "ipython",
    "version": 3
   },
   "file_extension": ".py",
   "mimetype": "text/x-python",
   "name": "python",
   "nbconvert_exporter": "python",
   "pygments_lexer": "ipython3",
   "version": "3.6.13"
  }
 },
 "nbformat": 4,
 "nbformat_minor": 4
}
